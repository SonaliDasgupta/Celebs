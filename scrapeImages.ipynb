{
 "cells": [
  {
   "cell_type": "code",
   "execution_count": 9,
   "metadata": {
    "collapsed": true
   },
   "outputs": [],
   "source": [
    "import requests"
   ]
  },
  {
   "cell_type": "code",
   "execution_count": 10,
   "metadata": {
    "collapsed": true
   },
   "outputs": [],
   "source": [
    "site=\"https://www.google.com/search?q=bollywood+actress+images+collections&source=lnms&tbm=isch&sa=X&ved=0ahUKEwjhhZyk4sbaAhWJK48KHfsBBp4Q_AUICigB&biw=1299&bih=639\""
   ]
  },
  {
   "cell_type": "code",
   "execution_count": 11,
   "metadata": {
    "collapsed": false
   },
   "outputs": [
    {
     "name": "stdout",
     "output_type": "stream",
     "text": [
      "<Response [200]>\n"
     ]
    }
   ],
   "source": [
    "r=requests.get(site)\n",
    "print r"
   ]
  },
  {
   "cell_type": "code",
   "execution_count": 12,
   "metadata": {
    "collapsed": false
   },
   "outputs": [],
   "source": [
    "from bs4 import BeautifulSoup\n",
    "soup=BeautifulSoup(r.content)\n"
   ]
  },
  {
   "cell_type": "code",
   "execution_count": 13,
   "metadata": {
    "collapsed": false
   },
   "outputs": [
    {
     "name": "stdout",
     "output_type": "stream",
     "text": [
      "from link <img alt=\"Image result for bollywood actress images collections\" height=\"142\" src=\"https://encrypted-tbn0.gstatic.com/images?q=tbn:ANd9GcQ-PSybBcJ9ZPxCDX_zqHOkHYS2bu-KKIkIJ8FbPZfiuYKI3vKt0l4jNNI\" width=\"91\"/>\n",
      "from link <img alt=\"Image result for bollywood actress images collections\" height=\"150\" src=\"https://encrypted-tbn0.gstatic.com/images?q=tbn:ANd9GcSyAP5thIHvJSO5mhi851HEwHw4Ws-kffiaQkg1y2fXZuoV0si0DmaiHfkg\" width=\"92\"/>\n",
      "from link <img alt=\"Image result for bollywood actress images collections\" height=\"98\" src=\"https://encrypted-tbn0.gstatic.com/images?q=tbn:ANd9GcQfBD6M4-exp6NxaEI57qQiDHdxMwiqa-ElayL-X6yfXyBPJsJZs3uIwG6W\" width=\"150\"/>\n",
      "from link <img alt=\"Image result for bollywood actress images collections\" height=\"84\" src=\"https://encrypted-tbn0.gstatic.com/images?q=tbn:ANd9GcSU685Qcy2KhKBRG-rR0FUceraIDwSldsJQWRLtwR31YHrTnjcXsHa_imbe\" width=\"150\"/>\n",
      "from link <img alt=\"Image result for bollywood actress images collections\" height=\"150\" src=\"https://encrypted-tbn0.gstatic.com/images?q=tbn:ANd9GcQeveyaik0J_0PnTJL7RkR0cxh3Nh9qjm-NTnFwLpbWnL-2LaTuzCPpZiCN\" width=\"100\"/>\n",
      "from link <img alt=\"Image result for bollywood actress images collections\" height=\"148\" src=\"https://encrypted-tbn0.gstatic.com/images?q=tbn:ANd9GcSWI2d0dRkXLWDYbU2A9GEeXkWv1EgAZuE0WynsWfIojOlfqi_f1bzf08A\" width=\"99\"/>\n",
      "from link <img alt=\"Image result for bollywood actress images collections\" height=\"150\" src=\"https://encrypted-tbn0.gstatic.com/images?q=tbn:ANd9GcQMkmSb0sl_SuaaLcFPltaR8GWF6LJ8laeTjORIrFgsNr3ArJdNtlVyj5hX\" width=\"100\"/>\n",
      "from link <img alt=\"Image result for bollywood actress images collections\" height=\"94\" src=\"https://encrypted-tbn0.gstatic.com/images?q=tbn:ANd9GcRlR4oPZWSAwde1ldjVuCgrCV8la0qk75MGZH7v3i1T3ry2WaFblT4KPtg\" width=\"150\"/>\n",
      "from link <img alt=\"Image result for bollywood actress images collections\" height=\"113\" src=\"https://encrypted-tbn0.gstatic.com/images?q=tbn:ANd9GcSV7dnuvu9ryCNhZ5EOjDyha2HTvijCMbSnNPW0zmU16D6ax1zIJYxgRXg\" width=\"150\"/>\n",
      "from link <img alt=\"Image result for bollywood actress images collections\" height=\"124\" src=\"https://encrypted-tbn0.gstatic.com/images?q=tbn:ANd9GcQ-RWwXloVJzuVCAmPJZSkOFnG5MnJC2vYJQN9SykDpOD8Ecrhz2aYGpVA\" width=\"93\"/>\n",
      "from link <img alt=\"Image result for bollywood actress images collections\" height=\"150\" src=\"https://encrypted-tbn0.gstatic.com/images?q=tbn:ANd9GcQ2mP5TQtJlMaj9j7kz6vzImmsNo8H2YesAUCyjBnyUKBdfa3rlQ8zSWM4\" width=\"100\"/>\n",
      "from link <img alt=\"Image result for bollywood actress images collections\" height=\"84\" src=\"https://encrypted-tbn0.gstatic.com/images?q=tbn:ANd9GcS9TyTGv_ztdF2RDITxHbeEX8vQvDaf5AR52lvPtb2zPbCeBwo7-Rs8wGg\" width=\"150\"/>\n",
      "from link <img alt=\"Image result for bollywood actress images collections\" height=\"146\" src=\"https://encrypted-tbn0.gstatic.com/images?q=tbn:ANd9GcR5HV9rFpc9uyZbsGi8k3ldN7QzdvaZpaPQfi_pXvfhNmQfBdaQH4tBHsw\" width=\"97\"/>\n",
      "from link <img alt=\"Image result for bollywood actress images collections\" height=\"113\" src=\"https://encrypted-tbn0.gstatic.com/images?q=tbn:ANd9GcQLjeAMj7Hci8HdHxSfzbqFiCMvrsh-uYC3zE55CozQm2MmrjN9jb3wvWqp\" width=\"150\"/>\n",
      "from link <img alt=\"Image result for bollywood actress images collections\" height=\"113\" src=\"https://encrypted-tbn0.gstatic.com/images?q=tbn:ANd9GcSnsrdftjac48VkbNVf8-GkxmQin1TWqGoUNWeSxpC9Yd1rXB8HZw_Bxfc\" width=\"150\"/>\n",
      "from link <img alt=\"Image result for bollywood actress images collections\" height=\"150\" src=\"https://encrypted-tbn0.gstatic.com/images?q=tbn:ANd9GcSfGQBOrcREgqG_CAtCP1h2yYaJP61kkaTul-rako0fAfTX1e3cB3kM3-M\" width=\"109\"/>\n",
      "from link <img alt=\"Image result for bollywood actress images collections\" height=\"150\" src=\"https://encrypted-tbn0.gstatic.com/images?q=tbn:ANd9GcRKINLxM1OLfD3FbSy6pZvLPjpcelqKfAEcTpzlaHXkdUs3qNi1ob6zEF-8\" width=\"105\"/>\n",
      "from link <img alt=\"Image result for bollywood actress images collections\" height=\"150\" src=\"https://encrypted-tbn0.gstatic.com/images?q=tbn:ANd9GcQBvgaQUe0brqayKFI3JNsoirSH6Iu0ea56r7WMOhMOUFuYn5eeQ_Sv5Eg\" width=\"91\"/>\n",
      "from link <img alt=\"Image result for bollywood actress images collections\" height=\"113\" src=\"https://encrypted-tbn0.gstatic.com/images?q=tbn:ANd9GcS9VAZTdSWmVQP-chHXwOyOD2L-76LBMqteRC3CwKhVPouBSDXykVUdHNyw\" width=\"150\"/>\n",
      "from link <img alt=\"Image result for bollywood actress images collections\" height=\"80\" src=\"https://encrypted-tbn0.gstatic.com/images?q=tbn:ANd9GcT1Z6Px8AzELb2GAHdfEofk9NUfFSww1pr_FOVgKhZOJIony6R6wyImEBM\" width=\"150\"/>\n"
     ]
    }
   ],
   "source": [
    "import re\n",
    "import os\n",
    "import urllib2\n",
    "#img_tags=soup.find_all(\"img\")\n",
    "#urls=[img['src'] for img in img_tags]\n",
    "#print urls\n",
    "#for url in urls:\n",
    "cnt=0\n",
    "for link in soup.find_all('img'):\n",
    "    print(\"from link {}\".format(link))\n",
    "    image=link.get(\"src\")\n",
    "    download_img = urllib2.urlopen(image)\n",
    "#  txt.write(download_img.read())\n",
    "    question_mark=image.find(\"?\")\n",
    "    image=image[:question_mark]\n",
    "    image_name=\"image\"+str(cnt)\n",
    "    with open(image_name,\"wb\") as f:\n",
    "        f.write(download_img.read())\n",
    "    #   response=requests.get(image)\n",
    "     #   f.write(response.content)\n",
    "    cnt=cnt+1\n",
    "    if(cnt>100):\n",
    "        break\n",
    "    \n",
    "            "
   ]
  },
  {
   "cell_type": "code",
   "execution_count": null,
   "metadata": {
    "collapsed": true
   },
   "outputs": [],
   "source": []
  }
 ],
 "metadata": {
  "anaconda-cloud": {},
  "kernelspec": {
   "display_name": "Python [default]",
   "language": "python",
   "name": "python2"
  },
  "language_info": {
   "codemirror_mode": {
    "name": "ipython",
    "version": 2
   },
   "file_extension": ".py",
   "mimetype": "text/x-python",
   "name": "python",
   "nbconvert_exporter": "python",
   "pygments_lexer": "ipython2",
   "version": "2.7.12"
  }
 },
 "nbformat": 4,
 "nbformat_minor": 1
}
